{
 "cells": [
  {
   "cell_type": "markdown",
   "id": "f2ac8e2c",
   "metadata": {},
   "source": [
    "# Load the Csv file"
   ]
  },
  {
   "cell_type": "code",
   "execution_count": 2,
   "id": "a0c412fb",
   "metadata": {},
   "outputs": [],
   "source": [
    "import pandas as pd"
   ]
  },
  {
   "cell_type": "code",
   "execution_count": 4,
   "id": "26d6f42d",
   "metadata": {},
   "outputs": [],
   "source": [
    "df = pd.read_csv('sales_data.csv')"
   ]
  },
  {
   "cell_type": "code",
   "execution_count": 5,
   "id": "76ca9ca6",
   "metadata": {},
   "outputs": [
    {
     "data": {
      "text/html": [
       "<div>\n",
       "<style scoped>\n",
       "    .dataframe tbody tr th:only-of-type {\n",
       "        vertical-align: middle;\n",
       "    }\n",
       "\n",
       "    .dataframe tbody tr th {\n",
       "        vertical-align: top;\n",
       "    }\n",
       "\n",
       "    .dataframe thead th {\n",
       "        text-align: right;\n",
       "    }\n",
       "</style>\n",
       "<table border=\"1\" class=\"dataframe\">\n",
       "  <thead>\n",
       "    <tr style=\"text-align: right;\">\n",
       "      <th></th>\n",
       "      <th>Order ID</th>\n",
       "      <th>Product</th>\n",
       "      <th>Category</th>\n",
       "      <th>Quantity Ordered</th>\n",
       "      <th>Price Each</th>\n",
       "      <th>Order Date</th>\n",
       "    </tr>\n",
       "  </thead>\n",
       "  <tbody>\n",
       "    <tr>\n",
       "      <th>0</th>\n",
       "      <td>295665</td>\n",
       "      <td>Macbook Pro Laptop</td>\n",
       "      <td>Laptops</td>\n",
       "      <td>1</td>\n",
       "      <td>1700.00</td>\n",
       "      <td>12/30/19 00:01</td>\n",
       "    </tr>\n",
       "    <tr>\n",
       "      <th>1</th>\n",
       "      <td>295666</td>\n",
       "      <td>LG Washing Machine</td>\n",
       "      <td>Appliances</td>\n",
       "      <td>1</td>\n",
       "      <td>600.00</td>\n",
       "      <td>12/29/19 07:03</td>\n",
       "    </tr>\n",
       "    <tr>\n",
       "      <th>2</th>\n",
       "      <td>295667</td>\n",
       "      <td>USB-C Charging Cable</td>\n",
       "      <td>Accessories</td>\n",
       "      <td>1</td>\n",
       "      <td>11.95</td>\n",
       "      <td>12/12/19 18:21</td>\n",
       "    </tr>\n",
       "    <tr>\n",
       "      <th>3</th>\n",
       "      <td>295668</td>\n",
       "      <td>27in FHD Monitor</td>\n",
       "      <td>Monitors</td>\n",
       "      <td>1</td>\n",
       "      <td>149.99</td>\n",
       "      <td>12/22/19 15:13</td>\n",
       "    </tr>\n",
       "    <tr>\n",
       "      <th>4</th>\n",
       "      <td>295669</td>\n",
       "      <td>Bose SoundSport Headphones</td>\n",
       "      <td>Headphones</td>\n",
       "      <td>1</td>\n",
       "      <td>99.99</td>\n",
       "      <td>12/18/19 12:38</td>\n",
       "    </tr>\n",
       "    <tr>\n",
       "      <th>5</th>\n",
       "      <td>295670</td>\n",
       "      <td>AA Batteries (4-pack)</td>\n",
       "      <td>Accessories</td>\n",
       "      <td>2</td>\n",
       "      <td>3.84</td>\n",
       "      <td>12/31/19 22:58</td>\n",
       "    </tr>\n",
       "    <tr>\n",
       "      <th>6</th>\n",
       "      <td>295671</td>\n",
       "      <td>USB-C Charging Cable</td>\n",
       "      <td>Accessories</td>\n",
       "      <td>1</td>\n",
       "      <td>11.95</td>\n",
       "      <td>12/16/19 15:10</td>\n",
       "    </tr>\n",
       "    <tr>\n",
       "      <th>7</th>\n",
       "      <td>295672</td>\n",
       "      <td>iPhone</td>\n",
       "      <td>Phones</td>\n",
       "      <td>1</td>\n",
       "      <td>700.00</td>\n",
       "      <td>12/13/19 14:52</td>\n",
       "    </tr>\n",
       "    <tr>\n",
       "      <th>8</th>\n",
       "      <td>295673</td>\n",
       "      <td>Bose SoundSport Headphones</td>\n",
       "      <td>Headphones</td>\n",
       "      <td>1</td>\n",
       "      <td>99.99</td>\n",
       "      <td>12/15/19 23:26</td>\n",
       "    </tr>\n",
       "    <tr>\n",
       "      <th>9</th>\n",
       "      <td>295674</td>\n",
       "      <td>Apple Airpods Headphones</td>\n",
       "      <td>Headphones</td>\n",
       "      <td>1</td>\n",
       "      <td>150.00</td>\n",
       "      <td>12/28/19 11:51</td>\n",
       "    </tr>\n",
       "    <tr>\n",
       "      <th>10</th>\n",
       "      <td>295675</td>\n",
       "      <td>AAA Batteries (4-pack)</td>\n",
       "      <td>Accessories</td>\n",
       "      <td>2</td>\n",
       "      <td>2.99</td>\n",
       "      <td>12/03/19 10:39</td>\n",
       "    </tr>\n",
       "    <tr>\n",
       "      <th>11</th>\n",
       "      <td>295676</td>\n",
       "      <td>ThinkPad Laptop</td>\n",
       "      <td>Laptops</td>\n",
       "      <td>1</td>\n",
       "      <td>999.99</td>\n",
       "      <td>12/28/19 17:19</td>\n",
       "    </tr>\n",
       "    <tr>\n",
       "      <th>12</th>\n",
       "      <td>295677</td>\n",
       "      <td>34in Ultrawide Monitor</td>\n",
       "      <td>Monitors</td>\n",
       "      <td>1</td>\n",
       "      <td>379.99</td>\n",
       "      <td>12/25/19 12:01</td>\n",
       "    </tr>\n",
       "    <tr>\n",
       "      <th>13</th>\n",
       "      <td>295678</td>\n",
       "      <td>Lightning Charging Cable</td>\n",
       "      <td>Accessories</td>\n",
       "      <td>1</td>\n",
       "      <td>14.95</td>\n",
       "      <td>12/11/19 12:48</td>\n",
       "    </tr>\n",
       "    <tr>\n",
       "      <th>14</th>\n",
       "      <td>295679</td>\n",
       "      <td>Vareebadd Phone</td>\n",
       "      <td>Phones</td>\n",
       "      <td>1</td>\n",
       "      <td>400.00</td>\n",
       "      <td>12/06/19 09:42</td>\n",
       "    </tr>\n",
       "    <tr>\n",
       "      <th>15</th>\n",
       "      <td>295680</td>\n",
       "      <td>Lightning Charging Cable</td>\n",
       "      <td>Accessories</td>\n",
       "      <td>1</td>\n",
       "      <td>14.95</td>\n",
       "      <td>12/01/19 14:30</td>\n",
       "    </tr>\n",
       "    <tr>\n",
       "      <th>16</th>\n",
       "      <td>295681</td>\n",
       "      <td>iPhone</td>\n",
       "      <td>Phones</td>\n",
       "      <td>1</td>\n",
       "      <td>700.00</td>\n",
       "      <td>12/09/19 21:15</td>\n",
       "    </tr>\n",
       "  </tbody>\n",
       "</table>\n",
       "</div>"
      ],
      "text/plain": [
       "    Order ID                     Product     Category  Quantity Ordered  \\\n",
       "0     295665          Macbook Pro Laptop      Laptops                 1   \n",
       "1     295666          LG Washing Machine   Appliances                 1   \n",
       "2     295667        USB-C Charging Cable  Accessories                 1   \n",
       "3     295668            27in FHD Monitor     Monitors                 1   \n",
       "4     295669  Bose SoundSport Headphones   Headphones                 1   \n",
       "5     295670       AA Batteries (4-pack)  Accessories                 2   \n",
       "6     295671        USB-C Charging Cable  Accessories                 1   \n",
       "7     295672                      iPhone       Phones                 1   \n",
       "8     295673  Bose SoundSport Headphones   Headphones                 1   \n",
       "9     295674    Apple Airpods Headphones   Headphones                 1   \n",
       "10    295675      AAA Batteries (4-pack)  Accessories                 2   \n",
       "11    295676             ThinkPad Laptop      Laptops                 1   \n",
       "12    295677      34in Ultrawide Monitor     Monitors                 1   \n",
       "13    295678    Lightning Charging Cable  Accessories                 1   \n",
       "14    295679             Vareebadd Phone       Phones                 1   \n",
       "15    295680    Lightning Charging Cable  Accessories                 1   \n",
       "16    295681                      iPhone       Phones                 1   \n",
       "\n",
       "    Price Each      Order Date  \n",
       "0      1700.00  12/30/19 00:01  \n",
       "1       600.00  12/29/19 07:03  \n",
       "2        11.95  12/12/19 18:21  \n",
       "3       149.99  12/22/19 15:13  \n",
       "4        99.99  12/18/19 12:38  \n",
       "5         3.84  12/31/19 22:58  \n",
       "6        11.95  12/16/19 15:10  \n",
       "7       700.00  12/13/19 14:52  \n",
       "8        99.99  12/15/19 23:26  \n",
       "9       150.00  12/28/19 11:51  \n",
       "10        2.99  12/03/19 10:39  \n",
       "11      999.99  12/28/19 17:19  \n",
       "12      379.99  12/25/19 12:01  \n",
       "13       14.95  12/11/19 12:48  \n",
       "14      400.00  12/06/19 09:42  \n",
       "15       14.95  12/01/19 14:30  \n",
       "16      700.00  12/09/19 21:15  "
      ]
     },
     "execution_count": 5,
     "metadata": {},
     "output_type": "execute_result"
    }
   ],
   "source": [
    "df"
   ]
  },
  {
   "cell_type": "code",
   "execution_count": 6,
   "id": "8f0b4b79",
   "metadata": {},
   "outputs": [
    {
     "name": "stdout",
     "output_type": "stream",
     "text": [
      "   Order ID                     Product     Category  Quantity Ordered  \\\n",
      "0    295665          Macbook Pro Laptop      Laptops                 1   \n",
      "1    295666          LG Washing Machine   Appliances                 1   \n",
      "2    295667        USB-C Charging Cable  Accessories                 1   \n",
      "3    295668            27in FHD Monitor     Monitors                 1   \n",
      "4    295669  Bose SoundSport Headphones   Headphones                 1   \n",
      "\n",
      "   Price Each      Order Date  \n",
      "0     1700.00  12/30/19 00:01  \n",
      "1      600.00  12/29/19 07:03  \n",
      "2       11.95  12/12/19 18:21  \n",
      "3      149.99  12/22/19 15:13  \n",
      "4       99.99  12/18/19 12:38  \n"
     ]
    }
   ],
   "source": [
    "print(df.head())"
   ]
  },
  {
   "cell_type": "markdown",
   "id": "b8604a50",
   "metadata": {},
   "source": [
    "# Analyze the data"
   ]
  },
  {
   "cell_type": "code",
   "execution_count": 8,
   "id": "a272fbfb",
   "metadata": {},
   "outputs": [
    {
     "name": "stdout",
     "output_type": "stream",
     "text": [
      "Product\n",
      "27in FHD Monitor              1\n",
      "34in Ultrawide Monitor        1\n",
      "AA Batteries (4-pack)         2\n",
      "AAA Batteries (4-pack)        2\n",
      "Apple Airpods Headphones      1\n",
      "Bose SoundSport Headphones    2\n",
      "LG Washing Machine            1\n",
      "Lightning Charging Cable      2\n",
      "Macbook Pro Laptop            1\n",
      "ThinkPad Laptop               1\n",
      "USB-C Charging Cable          2\n",
      "Vareebadd Phone               1\n",
      "iPhone                        2\n",
      "Name: Quantity Ordered, dtype: int64\n"
     ]
    }
   ],
   "source": [
    "product_sales = df.groupby('Product')['Quantity Ordered'].sum()\n",
    "\n",
    "print(product_sales)"
   ]
  },
  {
   "cell_type": "markdown",
   "id": "823e2d64",
   "metadata": {},
   "source": [
    "# Visualize the Results"
   ]
  },
  {
   "cell_type": "code",
   "execution_count": 10,
   "id": "28467af7",
   "metadata": {},
   "outputs": [],
   "source": [
    "import matplotlib.pyplot as plt"
   ]
  },
  {
   "cell_type": "code",
   "execution_count": 11,
   "id": "b46cdad4",
   "metadata": {},
   "outputs": [
    {
     "data": {
      "text/plain": [
       "<Axes: xlabel='Product'>"
      ]
     },
     "execution_count": 11,
     "metadata": {},
     "output_type": "execute_result"
    },
    {
     "data": {
      "image/png": "[encoded data removed]",
      "text/plain": [
       "<Figure size 640x480 with 1 Axes>"
      ]
     },
     "metadata": {},
     "output_type": "display_data"
    }
   ],
   "source": [
    "product_sales.plot(kind='bar')"
   ]
  },
  {
   "cell_type": "code",
   "execution_count": 14,
   "id": "9ca9c8f4",
   "metadata": {},
   "outputs": [
    {
     "data": {
      "text/plain": [
       "Text(0, 0.5, 'Quantity Ordered')"
      ]
     },
     "execution_count": 14,
     "metadata": {},
     "output_type": "execute_result"
    },
    {
     "data": {
      "image/png": "[encoded data removed]",
      "text/plain": [
       "<Figure size 640x480 with 1 Axes>"
      ]
     },
     "metadata": {},
     "output_type": "display_data"
    }
   ],
   "source": [
    "plt.title('Total Sales by Product')\n",
    "plt.xlabel('Product')\n",
    "plt.ylabel('Quantity Ordered')"
   ]
  },
  {
   "cell_type": "code",
   "execution_count": 15,
   "id": "962fbac6",
   "metadata": {},
   "outputs": [],
   "source": [
    "plt.show()"
   ]
  }
 ],
 "metadata": {
  "kernelspec": {
   "display_name": "Python 3",
   "language": "python",
   "name": "python3"
  },
  "language_info": {
   "codemirror_mode": {
    "name": "ipython",
    "version": 3
   },
   "file_extension": ".py",
   "mimetype": "text/x-python",
   "name": "python",
   "nbconvert_exporter": "python",
   "pygments_lexer": "ipython3",
   "version": "3.13.1"
  }
 },
 "nbformat": 4,
 "nbformat_minor": 5
}
